{
 "cells": [
  {
   "cell_type": "markdown",
   "id": "b72610be",
   "metadata": {},
   "source": [
    "# 📊 Linear Regression (One Variable)\n",
    "في هذا المشروع هنطبق **Linear Regression** بسيط للتنبؤ بالدخل للفرد بناءً على السنة."
   ]
  },
  {
   "cell_type": "code",
   "execution_count": null,
   "id": "409e3814",
   "metadata": {},
   "outputs": [],
   "source": [
    "import pandas as pd\n",
    "from sklearn import linear_model\n",
    "import matplotlib.pyplot as plt\n",
    "\n",
    "data = {\n",
    "    'year': [2000, 2001, 2002, 2003, 2004, 2005, 2006, 2007, 2008, 2009, 2010],\n",
    "    'per_capita_income': [15000, 16000, 17000, 18000, 19000, 20000, 21000, 22000, 23000, 24000, 25000]\n",
    "}\n",
    "\n",
    "df = pd.DataFrame(data)\n",
    "df"
   ]
  },
  {
   "cell_type": "markdown",
   "id": "455820f1",
   "metadata": {},
   "source": [
    "## 🔹 رسم البيانات الأصلية"
   ]
  },
  {
   "cell_type": "code",
   "execution_count": null,
   "id": "983b1c05",
   "metadata": {},
   "outputs": [],
   "source": [
    "%matplotlib inline\n",
    "plt.xlabel('Year', fontsize=15)\n",
    "plt.ylabel('Income', fontsize=15)\n",
    "plt.scatter(df['year'], df['per_capita_income'], color='red', marker='*')\n",
    "plt.title(\"Scatter plot of Year vs Income\")"
   ]
  },
  {
   "cell_type": "markdown",
   "id": "8c099c7c",
   "metadata": {},
   "source": [
    "## 🔹 تدريب الموديل"
   ]
  },
  {
   "cell_type": "code",
   "execution_count": null,
   "id": "904b4862",
   "metadata": {},
   "outputs": [],
   "source": [
    "reg = linear_model.LinearRegression()\n",
    "reg.fit(df[['year']], df['per_capita_income'])\n",
    "\n",
    "print(\"Slope (ميل):\", reg.coef_[0])\n",
    "print(\"Intercept (الجزء الثابت):\", reg.intercept_)"
   ]
  },
  {
   "cell_type": "markdown",
   "id": "8ea23793",
   "metadata": {},
   "source": [
    "## 🔹 التنبؤ"
   ]
  },
  {
   "cell_type": "code",
   "execution_count": null,
   "id": "146eb436",
   "metadata": {},
   "outputs": [],
   "source": [
    "print(\"Prediction for 2002:\", reg.predict([[2002]])[0])\n",
    "print(\"Prediction for 2020:\", reg.predict([[2020]])[0])\n",
    "print(\"Prediction for 2025:\", reg.predict([[2025]])[0])"
   ]
  },
  {
   "cell_type": "markdown",
   "id": "ad642655",
   "metadata": {},
   "source": [
    "## 🔹 رسم خط الانحدار مع البيانات"
   ]
  },
  {
   "cell_type": "code",
   "execution_count": null,
   "id": "3743d9c4",
   "metadata": {},
   "outputs": [],
   "source": [
    "plt.scatter(df['year'], df['per_capita_income'], color='blue', label=\"Data\")\n",
    "plt.plot(df['year'], reg.predict(df[['year']]), color='red', label=\"Regression Line\")\n",
    "plt.xlabel(\"Year\")\n",
    "plt.ylabel(\"Per Capita Income\")\n",
    "plt.title(\"Year vs Income (Linear Regression)\")\n",
    "plt.legend()\n",
    "plt.show()"
   ]
  }
 ],
 "metadata": {
  "language_info": {
   "name": "python"
  }
 },
 "nbformat": 4,
 "nbformat_minor": 5
}
